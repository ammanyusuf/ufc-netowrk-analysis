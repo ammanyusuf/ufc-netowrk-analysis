{
 "cells": [
  {
   "cell_type": "code",
   "execution_count": 2,
   "id": "39f81a90",
   "metadata": {},
   "outputs": [
    {
     "name": "stdout",
     "output_type": "stream",
     "text": [
      "importing Jupyter notebook from generate_ufc_graphs.ipynb\n",
      "importing Jupyter notebook from graph_functions.ipynb\n"
     ]
    }
   ],
   "source": [
    "import import_ipynb\n",
    "import generate_ufc_graphs as g\n",
    "import graph_functions as f\n",
    "import itertools "
   ]
  },
  {
   "cell_type": "code",
   "execution_count": 3,
   "id": "3ddae36b",
   "metadata": {},
   "outputs": [
    {
     "name": "stdout",
     "output_type": "stream",
     "text": [
      "Top 10 Highest Degree Centralities: {'Jim Miller': 0.01683816651075772, 'Donald Cerrone': 0.01637043966323667, 'Andrei Arlovski': 0.015902712815715623, 'Jeremy Stephens': 0.015434985968194575, 'Diego Sanchez': 0.014967259120673527, 'Demian Maia': 0.014967259120673527, 'Clay Guida': 0.01403180542563143, 'Rafael Dos Anjos': 0.013564078578110384, 'Michael Bisping': 0.013564078578110384, 'Gleison Tibau': 0.013096351730589336}\n",
      "\n",
      "Top 10 Highest InDegree Centralities: {'Donald Cerrone': 0.011225444340505146, 'Demian Maia': 0.01028999064546305, 'Jim Miller': 0.009822263797942002, 'Andrei Arlovski': 0.009354536950420954, 'Michael Bisping': 0.009354536950420954, 'Diego Sanchez': 0.008886810102899906, 'Jon Jones': 0.008886810102899906, 'Dustin Poirier': 0.00841908325537886, 'Rafael Dos Anjos': 0.00841908325537886, 'Max Holloway': 0.007951356407857811}\n",
      "\n",
      "Top 10 Highest OutDegree Centralities: {'Jeremy Stephens': 0.007951356407857811, 'Jim Miller': 0.007015902712815715, 'Andrei Arlovski': 0.006548175865294668, 'Clay Guida': 0.006548175865294668, 'Ross Pearson': 0.006548175865294668, 'Michael Johnson': 0.00608044901777362, 'Diego Sanchez': 0.00608044901777362, 'Joshua Burkman': 0.00608044901777362, 'Matt Brown': 0.005612722170252573, 'BJ Penn': 0.005612722170252573}\n",
      "\n",
      "Top 10 Highest Between Centralities: {'Ross Pearson': 0.03023675849869045, 'Cole Miller': 0.028681159145927067, 'Anthony Johnson': 0.027580508206001532, 'Demian Maia': 0.026396822306784945, 'Jeremy Stephens': 0.022781563993399305, 'Dan Hooker': 0.0224763225215264, 'Gray Maynard': 0.022419894707826328, 'Alex Caceres': 0.02173008141573902, 'Rich Clementi': 0.02163015545131062, 'Donald Cerrone': 0.01961674063873784}\n",
      "\n",
      "Top 10 Highest Edge Centralities: {('Ross Pearson', 'Cole Miller'): 0.023458540577431495, ('Anthony Johnson', 'Rich Clementi'): 0.020618457924107648, ('Dan Hooker', 'Maximo Blanco'): 0.017540450229508866, ('Cole Miller', 'Alex Caceres'): 0.01233282653580574, ('Gilbert Burns', 'Dan Hooker'): 0.01203155715322001, ('Gray Maynard', 'Ross Pearson'): 0.010354148923598535, ('Maximo Blanco', 'Luke Sanders'): 0.00954643823049339, ('Rich Clementi', 'Gray Maynard'): 0.009259807829103432, ('Donald Cerrone', 'Robbie Lawler'): 0.00904294718128971, ('Raphael Assuncao', 'Erik Koch'): 0.008541258545844739}\n",
      "\n",
      "Top 10 Highest Closeness Centralities: {'Jorge Masvidal': 0.18542982185085627, 'Demian Maia': 0.18529040093217142, 'Donald Cerrone': 0.181314212070966, 'Rafael Dos Anjos': 0.17961824580159472, 'Anderson Silva': 0.1792698107951901, 'Kamaru Usman': 0.17791840190328848, 'Anthony Pettis': 0.17619368439451, 'Robbie Lawler': 0.176172691461781, 'Tyron Woodley': 0.1760678017907511, 'Darren Till': 0.17550354889480452}\n",
      "\n",
      "Top 10 Highest Eigenvector Centralities: {'Donald Cerrone': 0.22287519228072927, 'Rafael Dos Anjos': 0.20432478710530882, 'Khabib Nurmagomedov': 0.20097126322033182, 'Nate Diaz': 0.18953751953083312, 'Dustin Poirier': 0.18541495462692237, 'Conor McGregor': 0.18416936507609405, 'Anthony Pettis': 0.1791858241653016, 'Tony Ferguson': 0.1704908924238739, 'Max Holloway': 0.16664379874750218, 'Clay Guida': 0.15667170424052043}\n",
      "\n",
      "THE END\n"
     ]
    }
   ],
   "source": [
    "G = g.G_directed\n",
    "N = 10\n",
    "\n",
    "degreeCentrality = f.degree_centrality(G)\n",
    "inDegreeCentrality = f.in_degree_centrality(G)\n",
    "outDegreeCentrality = f.out_degree_centrality(G)\n",
    "betweennessCentrality = f.betweenness_centrality(G)\n",
    "edgeBetweennessCentrality = f.edge_betweenness_centrality(G)\n",
    "closenessCentrality = f.closeness_centrality(G)\n",
    "eigenvectorCentrality = f.eigenvector_centrality(G)\n",
    "\n",
    "print(\"Top 10 Highest Degree Centralities: \" + str(dict(itertools.islice(degreeCentrality.items(), N))) + \"\\n\")\n",
    "print(\"Top 10 Highest InDegree Centralities: \" + str(dict(itertools.islice(inDegreeCentrality.items(), N))) + \"\\n\")\n",
    "print(\"Top 10 Highest OutDegree Centralities: \" + str(dict(itertools.islice(outDegreeCentrality.items(), N))) + \"\\n\")\n",
    "print(\"Top 10 Highest Between Centralities: \" + str(dict(itertools.islice(betweennessCentrality.items(), N))) + \"\\n\")\n",
    "print(\"Top 10 Highest Edge Centralities: \" + str(dict(itertools.islice(edgeBetweennessCentrality.items(), N))) + \"\\n\")\n",
    "print(\"Top 10 Highest Closeness Centralities: \" + str(dict(itertools.islice(closenessCentrality.items(), N))) + \"\\n\")\n",
    "print(\"Top 10 Highest Eigenvector Centralities: \" + str(dict(itertools.islice(eigenvectorCentrality.items(), N))) + \"\\n\")\n",
    "print(\"THE END\")"
   ]
  },
  {
   "cell_type": "code",
   "execution_count": null,
   "id": "94af8c22",
   "metadata": {},
   "outputs": [],
   "source": []
  }
 ],
 "metadata": {
  "kernelspec": {
   "display_name": "Python 3 (ipykernel)",
   "language": "python",
   "name": "python3"
  },
  "language_info": {
   "codemirror_mode": {
    "name": "ipython",
    "version": 3
   },
   "file_extension": ".py",
   "mimetype": "text/x-python",
   "name": "python",
   "nbconvert_exporter": "python",
   "pygments_lexer": "ipython3",
   "version": "3.9.12"
  }
 },
 "nbformat": 4,
 "nbformat_minor": 5
}
