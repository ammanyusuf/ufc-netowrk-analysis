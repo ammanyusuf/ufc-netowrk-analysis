{
 "cells": [
  {
   "cell_type": "markdown",
   "id": "6a3039c1",
   "metadata": {},
   "source": [
    "# Generate UFC Graphs\n",
    "This file will gather the UFC fight data from a google docs link, clean the data, and then generate\n",
    "the graphs with netwrorkx"
   ]
  },
  {
   "cell_type": "code",
   "execution_count": 10,
   "id": "7e74f09e",
   "metadata": {},
   "outputs": [],
   "source": [
    "import pandas as pd\n",
    "import numpy as np\n",
    "import networkx as nx\n",
    "import csv"
   ]
  },
  {
   "cell_type": "code",
   "execution_count": 11,
   "id": "4a5bcf92",
   "metadata": {},
   "outputs": [
    {
     "data": {
      "text/plain": [
       "6012"
      ]
     },
     "execution_count": 11,
     "metadata": {},
     "output_type": "execute_result"
    }
   ],
   "source": [
    "url = 'https://drive.google.com/file/d/1FtCv5uUaBY_GHzFrBmqpwJ5EhoVNnY4U/view?usp=sharing'\n",
    "url='https://drive.google.com/uc?id=' + url.split('/')[-2]\n",
    "data = pd.read_csv(url)\n",
    "len(data)"
   ]
  },
  {
   "cell_type": "markdown",
   "id": "35c7f41e",
   "metadata": {},
   "source": [
    "# Clean the data\n",
    "The first step here is to remove rows from nan values in the stat columns.\n",
    "\n",
    "We'll still be using the complete data for now."
   ]
  },
  {
   "cell_type": "code",
   "execution_count": 26,
   "id": "938c702a",
   "metadata": {},
   "outputs": [
    {
     "data": {
      "text/plain": [
       "4173"
      ]
     },
     "execution_count": 26,
     "metadata": {},
     "output_type": "execute_result"
    }
   ],
   "source": [
    "# Remove na values in the B fighter data (this covers all of it, i checked with tableau)\n",
    "cleaned_data = data.dropna(subset=['B_avg_KD','B_Reach_cms','B_Height_cms','B_Stance','B_age'])\n",
    "len(cleaned_data)"
   ]
  },
  {
   "cell_type": "code",
   "execution_count": 27,
   "id": "b91f5a79",
   "metadata": {},
   "outputs": [
    {
     "data": {
      "text/plain": [
       "3915"
      ]
     },
     "execution_count": 27,
     "metadata": {},
     "output_type": "execute_result"
    }
   ],
   "source": [
    "# Remove na values in the R fighter data (this covers all of it, i checked with tableau)\n",
    "cleaned_data = cleaned_data.dropna(subset=['R_avg_KD','R_Reach_cms'])\n",
    "len(cleaned_data)"
   ]
  },
  {
   "cell_type": "markdown",
   "id": "2ef3ce77",
   "metadata": {},
   "source": [
    "# Generate Undirected Graph"
   ]
  },
  {
   "cell_type": "code",
   "execution_count": 13,
   "id": "7073fe20",
   "metadata": {},
   "outputs": [],
   "source": [
    "'''The following variable assignments are to isolate all unique fighters into one list \n",
    "(which we can later use to get our nodes)'''\n",
    "red_fighters = data['R_fighter'].unique().tolist()\n",
    "blue_fighters = data['B_fighter'].unique().tolist() \n",
    "all_fighters = red_fighters + blue_fighters\n",
    "unique_fighters = []\n",
    "\n",
    "f = open(\"nodes.csv\", \"w\")\n",
    "writer = csv.writer(f)\n",
    "writer.writerow(['Fighter'])\n",
    "for i in all_fighters:\n",
    "    if i not in unique_fighters:\n",
    "        unique_fighters.append(i)\n",
    "        writer.writerow([i])\n",
    "f.close()"
   ]
  },
  {
   "cell_type": "code",
   "execution_count": 14,
   "id": "20def34d",
   "metadata": {},
   "outputs": [],
   "source": [
    "edge_list = []\n",
    "f = open(\"edges.csv\", \"w\")\n",
    "writer = csv.writer(f)\n",
    "writer.writerow(['Source', 'Target'])\n",
    "for index, row in data.iterrows():\n",
    "    edge_list.append((row['R_fighter'], row['B_fighter']))\n",
    "    writer.writerow(row[['R_fighter', 'B_fighter']])\n",
    "f.close()"
   ]
  },
  {
   "cell_type": "code",
   "execution_count": 15,
   "id": "a77ef22b",
   "metadata": {},
   "outputs": [
    {
     "data": {
      "text/plain": [
       "2139"
      ]
     },
     "execution_count": 15,
     "metadata": {},
     "output_type": "execute_result"
    }
   ],
   "source": [
    "G = nx.Graph()\n",
    "G.add_nodes_from(unique_fighters)\n",
    "G.add_edges_from(edge_list)\n",
    "len(unique_fighters)"
   ]
  },
  {
   "cell_type": "code",
   "execution_count": 16,
   "id": "25754a1e",
   "metadata": {},
   "outputs": [],
   "source": [
    "nx.write_gml(G, \"undirected.gml\")"
   ]
  },
  {
   "cell_type": "markdown",
   "id": "15448d09",
   "metadata": {},
   "source": [
    "# Generate Directed Graph"
   ]
  },
  {
   "cell_type": "code",
   "execution_count": 17,
   "id": "870bfb18",
   "metadata": {},
   "outputs": [],
   "source": [
    "def generate_graph_from_data(data):\n",
    "    G_directed = nx.DiGraph()\n",
    "\n",
    "    G_directed.add_nodes_from(unique_fighters)\n",
    "\n",
    "    directed_edge_list = []\n",
    "    for index, row in data.iterrows():\n",
    "        red_fighter = row['R_fighter']\n",
    "        red_fighter_stance = row['R_Stance']\n",
    "\n",
    "        blue_fighter = row['B_fighter']\n",
    "        blue_fighter_stance = row['B_Stance']\n",
    "\n",
    "        weight_class = row['weight_class']\n",
    "        title_bout = row['title_bout']\n",
    "\n",
    "        referee = row['Referee']\n",
    "        if pd.isnull(row['Referee']):\n",
    "            referee = \"N/A\"\n",
    "\n",
    "        # Iteratievley check if an edge has already been added to the graph, add 1 to\n",
    "        # the repeat bout weight\n",
    "        if row['Winner'] == 'Blue':\n",
    "            if G_directed.has_edge(red_fighter, blue_fighter):\n",
    "                G_directed[red_fighter][blue_fighter]['repeated_bout_weight'] += 1\n",
    "            else:\n",
    "                G_directed.add_edge(red_fighter, \n",
    "                                    blue_fighter, \n",
    "                                    repeated_bout_weight=1, \n",
    "                                    weight_class=weight_class, \n",
    "                                    title_bout=title_bout,\n",
    "                                    referee=referee\n",
    "                                   )\n",
    "        elif row['Winner'] == 'Red':\n",
    "            if G_directed.has_edge(blue_fighter, red_fighter):\n",
    "                G_directed[blue_fighter][red_fighter]['repeated_bout_weight'] += 1\n",
    "            else:\n",
    "                G_directed.add_edge(blue_fighter, \n",
    "                                    red_fighter, \n",
    "                                    repeated_bout_weight=1, \n",
    "                                    weight_class=weight_class, \n",
    "                                    title_bout=title_bout,\n",
    "                                    referee=referee\n",
    "                                   )\n",
    "        else:\n",
    "            # Its a draw, so add both edges between the fighters\n",
    "            if G_directed.has_edge(red_fighter, blue_fighter):\n",
    "                G_directed[red_fighter][blue_fighter]['repeated_bout_weight'] += 1\n",
    "            else:\n",
    "                G_directed.add_edge(red_fighter, \n",
    "                                    blue_fighter, \n",
    "                                    repeated_bout_weight=1, \n",
    "                                    weight_class=weight_class, \n",
    "                                    title_bout=title_bout,\n",
    "                                    referee=referee\n",
    "                                   )\n",
    "            if G_directed.has_edge(blue_fighter, red_fighter):\n",
    "                G_directed[blue_fighter][red_fighter]['repeated_bout_weight'] += 1\n",
    "            else:\n",
    "                G_directed.add_edge(blue_fighter, \n",
    "                                    red_fighter, \n",
    "                                    repeated_bout_weight=1, \n",
    "                                    weight_class=weight_class, \n",
    "                                    title_bout=title_bout,\n",
    "                                    referee=referee\n",
    "                                   )\n",
    "    return G_directed\n",
    "    "
   ]
  },
  {
   "cell_type": "code",
   "execution_count": 18,
   "id": "8859446e",
   "metadata": {},
   "outputs": [],
   "source": [
    "# A multigraph: a directed graph with multiple edges (multiple fights)\n",
    "G_directed = generate_graph_from_data(data)"
   ]
  },
  {
   "cell_type": "code",
   "execution_count": 19,
   "id": "43895d53",
   "metadata": {},
   "outputs": [],
   "source": [
    "# export the directed edge list\n",
    "nx.write_gml(G_directed, \"directed.gml\")"
   ]
  }
 ],
 "metadata": {
  "kernelspec": {
   "display_name": "Python 3 (ipykernel)",
   "language": "python",
   "name": "python3"
  },
  "language_info": {
   "codemirror_mode": {
    "name": "ipython",
    "version": 3
   },
   "file_extension": ".py",
   "mimetype": "text/x-python",
   "name": "python",
   "nbconvert_exporter": "python",
   "pygments_lexer": "ipython3",
   "version": "3.10.8"
  }
 },
 "nbformat": 4,
 "nbformat_minor": 5
}
