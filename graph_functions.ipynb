{
 "cells": [
  {
   "cell_type": "code",
   "execution_count": 5,
   "id": "85f8ad7f",
   "metadata": {},
   "outputs": [],
   "source": [
    "import pandas as pd\n",
    "import numpy as np\n",
    "import networkx as nx\n",
    "import matplotlib.pyplot as plt\n",
    "import matplotlib.colors as colors\n",
    "import matplotlib as mpl\n",
    "from scipy.stats import gaussian_kde\n",
    "from scipy.optimize import curve_fit\n",
    "import csv\n",
    "\n",
    "%matplotlib inline"
   ]
  },
  {
   "cell_type": "code",
   "execution_count": null,
   "id": "bc09d33b",
   "metadata": {},
   "outputs": [],
   "source": [
    "def plot_degree_dist(G, histogram_num):\n",
    "    \n",
    "    degrees = [G.degree(n) for n in G.nodes()]\n",
    "    kmin = min(degrees)\n",
    "    kmax = max(degrees)\n",
    "    \n",
    "    if kmin>0:\n",
    "        bin_edges = np.logspace(np.log10(kmin), np.log10(kmax), num=histogram_num)\n",
    "    else:\n",
    "        bin_edges = np.logspace(0, np.log10(kmax)+1, num=histogram_num)\n",
    "    density, _ = np.histogram(degrees, bins=bin_edges, density=True)\n",
    "\n",
    "    fig = plt.figure(figsize=(6,4))\n",
    "\n",
    "    log_be = np.log10(bin_edges)\n",
    "    x = 10**((log_be[1:] + log_be[:-1])/2)\n",
    "    plt.loglog(x, density, marker='o', linestyle='none')\n",
    "    plt.xlabel(r\"degree $k$\", fontsize=16)\n",
    "    plt.ylabel(r\"$P(k)$\", fontsize=16)\n",
    "\n",
    "    ax = plt.gca()\n",
    "    ax.spines['right'].set_visible(False)\n",
    "    ax.spines['top'].set_visible(False)\n",
    "    ax.yaxis.set_ticks_position('left')\n",
    "    ax.xaxis.set_ticks_position('bottom')"
   ]
  },
  {
   "cell_type": "code",
   "execution_count": null,
   "id": "5e1a952f",
   "metadata": {},
   "outputs": [],
   "source": [
    "def plot_degree_dist_lin(G, histogram_num):\n",
    "\n",
    "    degrees = [G.degree(n) for n in G.nodes()]\n",
    "    kmin = min(degrees)\n",
    "    kmax = max(degrees)\n",
    "\n",
    "    # Get 20 logarithmically spaced bins between kmin and kmax\n",
    "    bin_edges = np.linspace(kmin, kmax, num=histogram_num)\n",
    "\n",
    "    # histogram the data into these bins\n",
    "    density, _ = np.histogram(degrees, bins=bin_edges, density=True)\n",
    "\n",
    "    fig = plt.figure(figsize=(6,4))\n",
    "\n",
    "    # \"x\" should be midpoint (IN LOG SPACE) of each bin\n",
    "    log_be = np.log10(bin_edges)\n",
    "    x = 10**((log_be[1:] + log_be[:-1])/2)\n",
    "\n",
    "    plt.plot(x, density, marker='o', linestyle='none')\n",
    "    plt.xlabel(r\"degree $k$\", fontsize=16)\n",
    "    plt.ylabel(r\"$P(k)$\", fontsize=16)\n",
    "\n",
    "    # remove right and top boundaries because they're ugly\n",
    "    ax = plt.gca()\n",
    "    ax.spines['right'].set_visible(False)\n",
    "    ax.spines['top'].set_visible(False)\n",
    "    ax.yaxis.set_ticks_position('left')\n",
    "    ax.xaxis.set_ticks_position('bottom')\n",
    "\n",
    "    # Show the plot\n",
    "    plt.show()"
   ]
  },
  {
   "cell_type": "code",
   "execution_count": null,
   "id": "f67fd20d",
   "metadata": {},
   "outputs": [],
   "source": [
    "# These plotting function help plot ejk (probability of finding an edge connecting a j-degree node to a k-degree node). This is \n",
    "# sourced from the Degee_Correlation tutorial\n",
    "def plot_ejk(list_of_edges_bw_nodes):\n",
    "    \n",
    "    fig = plt.figure()\n",
    "    plt.gca().invert_yaxis()\n",
    "    ax = plt.gca()\n",
    "    ax.set_facecolor('black')\n",
    "    ax.xaxis.tick_top()\n",
    "    x, y = list(), list()\n",
    "    \n",
    "    for edges_bw_nodes in list_of_edges_bw_nodes:\n",
    "        x.append(edges_bw_nodes[0])\n",
    "        y.append(edges_bw_nodes[1])\n",
    "\n",
    "    xy = np.vstack([x,y])\n",
    "    z = gaussian_kde(xy)(xy)\n",
    "\n",
    "    plt.scatter(x, y, norm=colors.LogNorm(vmin=z.min(), vmax=z.max()), c=z, s=1, cmap='afmhot')\n",
    "    plt.colorbar()\n",
    "    \n",
    "    plt.xlabel(\"k\")\n",
    "    plt.ylabel(\"j\")\n",
    "    ax_ = ax.twinx()\n",
    "    plt.ylabel('e_jk')\n",
    "    \n",
    "    plt.show()"
   ]
  },
  {
   "cell_type": "code",
   "execution_count": null,
   "id": "cc36295c",
   "metadata": {},
   "outputs": [],
   "source": [
    "# Plot the average degree of the neighbours (knn_k) of a node k\n",
    "def plot_knn(k, knn_k):\n",
    "    \n",
    "    k=np.array(k)\n",
    "    avg_k = np.average(k)\n",
    "    fig = plt.figure()\n",
    "    ax = plt.gca()\n",
    "    \n",
    "    # Binning using a Log Scale\n",
    "    bin_edges = np.logspace(np.log10(k.min()), np.log10(k.max()), num=100)\n",
    "    k_nn, _ = np.histogram(knn_k, bins=bin_edges, density=True)\n",
    "    log_be = np.log10(bin_edges)\n",
    "    k = 10**((log_be[1:] + log_be[:-1])/2)\n",
    "    ax.loglog(k, k_nn, marker='o', linestyle='none', label=\"ANND for the original Graph\")\n",
    "    \n",
    "    # Random Network's Average Next Neighbor Degree\n",
    "    neutral_net_knn = np.full(k.shape, np.average(np.square(k)))/avg_k\n",
    "    ax.plot(k, neutral_net_knn, label=\"ANND for the random Graph\")\n",
    "    \n",
    "    # Fitting k_nn = a*(k^u) to the scatter plot to get the value of u\n",
    "    def func(k, a, u):\n",
    "        return a*(k**u)\n",
    "    popt, _ = curve_fit(func, k, k_nn)\n",
    "    a, u = popt\n",
    "    print(\"Value of u is: \", u)\n",
    "    ax.plot(k, func(k, *popt), label=\"Value of u = {0}\".format(u))\n",
    "    \n",
    "    plt.xlabel(\"k\")\n",
    "    plt.ylabel(\"k_nn\")\n",
    "    \n",
    "    plt.show()"
   ]
  },
  {
   "cell_type": "code",
   "execution_count": 6,
   "id": "8ee7b641",
   "metadata": {},
   "outputs": [],
   "source": [
    "def print_statistics(g):\n",
    "    n = len(g)\n",
    "    l = g.size()\n",
    "    degs = [g.degree(node) for node in g]\n",
    "    k_min = min(degs)\n",
    "    k_max = max(degs)\n",
    "    c = np.mean(list(nx.clustering(g).values()))\n",
    "    \n",
    "    print(\"Number of nodes: \", n)\n",
    "    print(\"Number of edges: \", l)\n",
    "    print()\n",
    "    print(\"Average degree: \", 2*l/n)\n",
    "    print(\"Average degree (alternate calculation)\", np.mean(degs))\n",
    "    print()\n",
    "    print(\"Minimum degree: \", k_min)\n",
    "    print(\"Maximum degree: \", k_max)\n",
    "    \n",
    "    print(\"Average Clustering Coefficient: \", nx.average_clustering(g))\n",
    "    \n",
    "    if not nx.is_directed(g) and nx.is_connected(g):\n",
    "        d = nx.average_shortest_path_length(g,weight=None)\n",
    "        print(\"Average Shortest Path: \", d)"
   ]
  },
  {
   "cell_type": "code",
   "execution_count": 66,
   "id": "e98c2531",
   "metadata": {},
   "outputs": [],
   "source": [
    "'''\n",
    "This function will retrieve various statistics from the input graph G\n",
    "'''\n",
    "def get_graph_statistics(G):\n",
    "    N = len(G)\n",
    "    L = G.size()\n",
    "    degrees = [G.degree(node) for node in G]\n",
    "    k_min = min(degrees)\n",
    "    k_max = max(degrees)\n",
    "    C = np.mean(list(nx.clustering(G).values()))\n",
    "    avg_degree = np.mean(degrees)\n",
    "    \n",
    "    d = -1\n",
    "    if not nx.is_directed(G) and nx.is_connected(G):\n",
    "        d = nx.average_shortest_path_length(G,weight=None)\n",
    "    if nx.is_directed(G) and nx.is_weakly_connected(G):\n",
    "        d = nx.average_shortest_path_length(G,weight=None)\n",
    "    \n",
    "    columns = [\"Nodes\", \"Links\", \"Minimum degree\", \"Maximum degree\", \n",
    "               \"Average degree\", \"Average clustering coefficient\",\n",
    "               \"Average shortest path\"]\n",
    "    return [N, L, k_min, k_max, avg_degree, C, d]"
   ]
  },
  {
   "cell_type": "markdown",
   "id": "453e7589",
   "metadata": {},
   "source": [
    "## Connectedness (Undirected)\n",
    "The below work only on `Graph` objects\n",
    "\n",
    "* ***`is_connected(G)`***   \n",
    "`True` or `False` depending on whether `G` is connected or not      \n",
    "* ***`connected_components(G)`***     \n",
    "Return a list of lists, where each sub-list contains the nodes in one component   \n",
    "* ***`number_connected_components(G)`***      \n",
    "Returns only the length of the list above   \n",
    "* ***`connected_component_sugraphs(G)`***      \n",
    "Returns a list of new `Graph` objects each representing a component of `G`   \n",
    "* ***`node_connected_component(G, node)`***      \n",
    "Return a list of the nodes in the component of `G` containing `node`   "
   ]
  },
  {
   "cell_type": "code",
   "execution_count": 73,
   "id": "33960be4",
   "metadata": {},
   "outputs": [],
   "source": [
    "def get_size_of__each_connected_components(G):\n",
    "    if nx.is_directed(G):\n",
    "        tmp = list(map(len, nx.weakly_connected_components(G)))\n",
    "        tmp.sort(reverse=True)\n",
    "        return tmp\n",
    "    else:\n",
    "        tmp = list(map(len, nx.connected_components(G)))\n",
    "        tmp.sort(reverse=True)\n",
    "    return tmp"
   ]
  },
  {
   "cell_type": "code",
   "execution_count": 86,
   "id": "db2e64a3",
   "metadata": {},
   "outputs": [],
   "source": [
    "def get_largest_subgraph(G):\n",
    "    if nx.is_directed(G):\n",
    "        components = nx.weakly_connected_components(G)\n",
    "    else:\n",
    "        components = nx.connected_components(G)\n",
    "    components = sorted(components, key=len, reverse=True)\n",
    "    for c in components:\n",
    "        G_sub = nx.subgraph(G, c)\n",
    "        if not nx.is_directed(G_sub) and nx.is_connected(G_sub):\n",
    "            return G_sub\n",
    "        elif nx.is_directed(G_sub) and nx.is_weakly_connected(G_sub):\n",
    "            return G_sub\n",
    "    \n",
    "    # Return a null graph as fallback/sanity\n",
    "    return nx.Graph()"
   ]
  },
  {
   "cell_type": "code",
   "execution_count": 57,
   "id": "c40dc048",
   "metadata": {},
   "outputs": [],
   "source": [
    "undirected_graph = nx.read_gml(\"undirected.gml\")"
   ]
  },
  {
   "cell_type": "code",
   "execution_count": 67,
   "id": "89da686f",
   "metadata": {},
   "outputs": [
    {
     "data": {
      "text/plain": [
       "[2139, 5864, 1, 34, 5.482935951379149, 0.06383993303854943, -1]"
      ]
     },
     "execution_count": 67,
     "metadata": {},
     "output_type": "execute_result"
    }
   ],
   "source": [
    "get_graph_statistics(undirected_graph)"
   ]
  },
  {
   "cell_type": "code",
   "execution_count": 74,
   "id": "5c7f3673",
   "metadata": {},
   "outputs": [
    {
     "data": {
      "text/plain": [
       "[1909,\n",
       " 181,\n",
       " 4,\n",
       " 3,\n",
       " 2,\n",
       " 2,\n",
       " 2,\n",
       " 2,\n",
       " 2,\n",
       " 2,\n",
       " 2,\n",
       " 2,\n",
       " 2,\n",
       " 2,\n",
       " 2,\n",
       " 2,\n",
       " 2,\n",
       " 2,\n",
       " 2,\n",
       " 2,\n",
       " 2,\n",
       " 2,\n",
       " 2,\n",
       " 2,\n",
       " 2]"
      ]
     },
     "execution_count": 74,
     "metadata": {},
     "output_type": "execute_result"
    }
   ],
   "source": [
    "get_size_of__each_connected_components(undirected_graph)"
   ]
  },
  {
   "cell_type": "code",
   "execution_count": 87,
   "id": "1ac29ba7",
   "metadata": {},
   "outputs": [],
   "source": [
    "largest_undirected_subgraph = get_largest_subgraph(undirected_graph)"
   ]
  },
  {
   "cell_type": "code",
   "execution_count": 93,
   "id": "ca5aa21b",
   "metadata": {},
   "outputs": [
    {
     "data": {
      "text/plain": [
       "[1909, 5375, 1, 34, 5.631220534311158, 0.060655591046287975, 5.633873201309476]"
      ]
     },
     "execution_count": 93,
     "metadata": {},
     "output_type": "execute_result"
    }
   ],
   "source": [
    "get_graph_statistics(largest_undirected_subgraph)"
   ]
  },
  {
   "cell_type": "code",
   "execution_count": 89,
   "id": "cc599874",
   "metadata": {},
   "outputs": [],
   "source": [
    "directed_graph = nx.read_gml(\"directed_data.gml\")"
   ]
  },
  {
   "cell_type": "code",
   "execution_count": 90,
   "id": "1f384104",
   "metadata": {},
   "outputs": [
    {
     "data": {
      "text/plain": [
       "[2139, 6019, 1, 36, 5.627863487611033, 0.033024296572042984, -1]"
      ]
     },
     "execution_count": 90,
     "metadata": {},
     "output_type": "execute_result"
    }
   ],
   "source": [
    "get_graph_statistics(directed_graph)"
   ]
  },
  {
   "cell_type": "code",
   "execution_count": 91,
   "id": "105046f8",
   "metadata": {},
   "outputs": [
    {
     "data": {
      "text/plain": [
       "[1909,\n",
       " 181,\n",
       " 4,\n",
       " 3,\n",
       " 2,\n",
       " 2,\n",
       " 2,\n",
       " 2,\n",
       " 2,\n",
       " 2,\n",
       " 2,\n",
       " 2,\n",
       " 2,\n",
       " 2,\n",
       " 2,\n",
       " 2,\n",
       " 2,\n",
       " 2,\n",
       " 2,\n",
       " 2,\n",
       " 2,\n",
       " 2,\n",
       " 2,\n",
       " 2,\n",
       " 2]"
      ]
     },
     "execution_count": 91,
     "metadata": {},
     "output_type": "execute_result"
    }
   ],
   "source": [
    "get_size_of__each_connected_components(directed_graph)"
   ]
  },
  {
   "cell_type": "code",
   "execution_count": 92,
   "id": "7de3ef39",
   "metadata": {},
   "outputs": [],
   "source": [
    "largest_directed_subgraph = get_largest_subgraph(directed_graph)"
   ]
  },
  {
   "cell_type": "code",
   "execution_count": 94,
   "id": "97ce6c65",
   "metadata": {},
   "outputs": [
    {
     "data": {
      "text/plain": [
       "[1909,\n",
       " 5521,\n",
       " 1,\n",
       " 36,\n",
       " 5.784180199057098,\n",
       " 0.031388192132993036,\n",
       " 3.4736795143384587]"
      ]
     },
     "execution_count": 94,
     "metadata": {},
     "output_type": "execute_result"
    }
   ],
   "source": [
    "get_graph_statistics(largest_directed_subgraph)"
   ]
  },
  {
   "cell_type": "code",
   "execution_count": 95,
   "id": "997284c0",
   "metadata": {},
   "outputs": [],
   "source": [
    "max_L = len(directed_graph)*(len(directed_graph)-1)/2\n",
    "actual_L = len(directed_graph.edges())\n",
    "p = actual_L/max_L\n",
    "er = nx.erdos_renyi_graph(len(directed_graph), p)"
   ]
  },
  {
   "cell_type": "code",
   "execution_count": 96,
   "id": "722ccfb0",
   "metadata": {},
   "outputs": [
    {
     "data": {
      "text/plain": [
       "[2139, 5921, 0, 15, 5.536231884057971, 0.0023457374789773106, -1]"
      ]
     },
     "execution_count": 96,
     "metadata": {},
     "output_type": "execute_result"
    }
   ],
   "source": [
    "get_graph_statistics(er)"
   ]
  },
  {
   "cell_type": "code",
   "execution_count": 97,
   "id": "03dc586a",
   "metadata": {},
   "outputs": [
    {
     "data": {
      "text/plain": [
       "[2129, 5921, 1, 15, 5.562235791451386, 0.002356755503772883, 4.660339052186596]"
      ]
     },
     "execution_count": 97,
     "metadata": {},
     "output_type": "execute_result"
    }
   ],
   "source": [
    "get_graph_statistics(get_largest_subgraph(er))"
   ]
  }
 ],
 "metadata": {
  "kernelspec": {
   "display_name": "Python 3 (ipykernel)",
   "language": "python",
   "name": "python3"
  },
  "language_info": {
   "codemirror_mode": {
    "name": "ipython",
    "version": 3
   },
   "file_extension": ".py",
   "mimetype": "text/x-python",
   "name": "python",
   "nbconvert_exporter": "python",
   "pygments_lexer": "ipython3",
   "version": "3.10.8"
  }
 },
 "nbformat": 4,
 "nbformat_minor": 5
}
