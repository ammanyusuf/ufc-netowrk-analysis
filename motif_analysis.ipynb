{
 "cells": [
  {
   "cell_type": "code",
   "execution_count": 1,
   "id": "3b1541d1",
   "metadata": {},
   "outputs": [],
   "source": [
    "import numpy as np\n",
    "import networkx as nx\n",
    "\n",
    "import netsci.visualization as nsv"
   ]
  },
  {
   "cell_type": "code",
   "execution_count": 2,
   "id": "6781a879",
   "metadata": {},
   "outputs": [],
   "source": [
    "'''\n",
    "Get the 3 struct motifs from the graph\n",
    "Returns a list of frequencies of the 3 struct motifs\n",
    "'''\n",
    "def generate_3_struct_motifs(G):\n",
    "    return nsm.motifs(nx.to_numpy_array(directed, dtype=np.int64))"
   ]
  }
 ],
 "metadata": {
  "kernelspec": {
   "display_name": "Python 3 (ipykernel)",
   "language": "python",
   "name": "python3"
  },
  "language_info": {
   "codemirror_mode": {
    "name": "ipython",
    "version": 3
   },
   "file_extension": ".py",
   "mimetype": "text/x-python",
   "name": "python",
   "nbconvert_exporter": "python",
   "pygments_lexer": "ipython3",
   "version": "3.10.8"
  }
 },
 "nbformat": 4,
 "nbformat_minor": 5
}
