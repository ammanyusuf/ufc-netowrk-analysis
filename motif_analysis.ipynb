{
 "cells": [
  {
   "cell_type": "code",
   "execution_count": 1,
   "id": "3b1541d1",
   "metadata": {},
   "outputs": [
    {
     "name": "stdout",
     "output_type": "stream",
     "text": [
      "importing Jupyter notebook from generate_null_models.ipynb\n",
      "importing Jupyter notebook from graph_functions.ipynb\n"
     ]
    }
   ],
   "source": [
    "import import_ipynb\n",
    "import numpy as np\n",
    "import networkx as nx\n",
    "\n",
    "import generate_null_models as gn\n",
    "\n",
    "import netsci.visualization as nsv\n",
    "import netsci.metrics.motifs as nsm"
   ]
  },
  {
   "cell_type": "code",
   "execution_count": 2,
   "id": "6781a879",
   "metadata": {},
   "outputs": [],
   "source": [
    "'''\n",
    "Get the 3 struct motifs from the graph\n",
    "Returns a list of frequencies of the 3 struct motifs\n",
    "'''\n",
    "def generate_3_struct_motifs(G):\n",
    "    return nsm.motifs(nx.to_numpy_array(G, dtype=np.int64))"
   ]
  },
  {
   "cell_type": "code",
   "execution_count": 3,
   "id": "99da4fa3",
   "metadata": {},
   "outputs": [],
   "source": [
    "directed_graph = nx.read_gml('directed.gml')"
   ]
  },
  {
   "cell_type": "code",
   "execution_count": 4,
   "id": "9dbded51",
   "metadata": {},
   "outputs": [
    {
     "data": {
      "text/plain": [
       "array([   -1,    -1,    -1, 23094, 16091,  8099,  1297,  1054,  1705,\n",
       "         241,    48,    60,    42,    60,    10,     0])"
      ]
     },
     "execution_count": 4,
     "metadata": {},
     "output_type": "execute_result"
    }
   ],
   "source": [
    "generate_3_struct_motifs(directed_graph)"
   ]
  },
  {
   "cell_type": "markdown",
   "id": "a8faec97",
   "metadata": {},
   "source": [
    "# Generate N DP/ER models and calculate average frequency of motifs"
   ]
  },
  {
   "cell_type": "code",
   "execution_count": 5,
   "id": "bd1e5353",
   "metadata": {},
   "outputs": [],
   "source": [
    "'''\n",
    "this function will generate N DP models, returning the frequencies of each motif\n",
    "'''\n",
    "def generate_N_DP_graphs_motifs(G, directed, N):\n",
    "    motif_DP = []\n",
    "    for i in range(16):\n",
    "        motif_DP.append([])\n",
    "    \n",
    "    for i in range(N):\n",
    "        DP = gn.degree_preserving_graph_from(G, directed)\n",
    "        motifs = generate_3_struct_motifs(DP)\n",
    "        for j in range(len(motifs)):\n",
    "            motif_DP[j].append(motifs[j])\n",
    "    return motif_DP"
   ]
  },
  {
   "cell_type": "code",
   "execution_count": 6,
   "id": "76180346",
   "metadata": {},
   "outputs": [],
   "source": [
    "'''\n",
    "this function will generate N ER models, returning the frequencies of each motif\n",
    "'''\n",
    "def generate_N_ER_graphs_motifs(G, directed, N):\n",
    "    motif_ER = []\n",
    "    for i in range(16):\n",
    "        motif_ER.append([])\n",
    "    \n",
    "    for i in range(N):\n",
    "        ER = gn.erdos_renyi_graph_from(G, directed)\n",
    "        motifs = generate_3_struct_motifs(ER)\n",
    "        for j in range(len(motifs)):\n",
    "            motif_ER[j].append(motifs[j])\n",
    "    return motif_ER"
   ]
  }
 ],
 "metadata": {
  "kernelspec": {
   "display_name": "Python 3 (ipykernel)",
   "language": "python",
   "name": "python3"
  },
  "language_info": {
   "codemirror_mode": {
    "name": "ipython",
    "version": 3
   },
   "file_extension": ".py",
   "mimetype": "text/x-python",
   "name": "python",
   "nbconvert_exporter": "python",
   "pygments_lexer": "ipython3",
   "version": "3.10.8"
  }
 },
 "nbformat": 4,
 "nbformat_minor": 5
}
